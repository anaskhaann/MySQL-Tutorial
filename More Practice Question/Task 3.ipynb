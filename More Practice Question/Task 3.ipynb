{
  "cells": [
    {
      "cell_type": "markdown",
      "metadata": {
        "id": "kbYXPYQ4pVyp"
      },
      "source": [
        "## Freedom Ranking for Different Countries\n",
        "\n",
        "You can get the dataset from [here](https://drive.google.com/drive/folders/1wr0J571rlfexEJ4-de6_tz1QvU-cJ0df?usp=share_link).\n",
        "\n",
        "Some feature details of the dataset:\n",
        "\n",
        "| Feature | Description                             |\n",
        "| :-----: | :-------------------------------------- |\n",
        "|    A    | Electoral Process                       |\n",
        "|    B    | Political Pluralism and Participation   |\n",
        "|    C    | Functioning of Government               |\n",
        "|    D    | Freedom of Expression and Belief        |\n",
        "|    E    | Associational and Organizational Rights |\n",
        "|    F    | Rule of Law                             |\n",
        "|    G    | Personal Autonomy and Individual Rights |\n",
        "|   CL    | Civil Liberties Scores                  |\n",
        "| Status  | F=Free, PF=Partly Free, NF=Not Free     |\n",
        "\n",
        "###`Q-1` Find out top 10 countries' which have maximum A and D values.\n",
        "\n",
        "###`Q-2` Find out highest CL value for 2020 for every region. Also sort the result in descending order. Also display the CL values in descending order.\n"
      ]
    },
    {
      "cell_type": "code",
      "execution_count": null,
      "metadata": {
        "id": "-s_pPg_1pWyQ"
      },
      "outputs": [],
      "source": []
    },
    {
      "cell_type": "markdown",
      "metadata": {
        "id": "62JBrjrmpcn-"
      },
      "source": [
        "## Dataset\n",
        "\n",
        "Data -> SalesDB\n",
        "Four Tables:\n",
        "\n",
        "- Customer\n",
        "- Employee\n",
        "- Sales\n",
        "- Products\n",
        "\n",
        "###`Q-3` Find top-5 most sold products.\n",
        "\n",
        "### `Q-4:` Find sales man who sold most no of products.\n",
        "\n",
        "### `Q-5:` Sales man name who has most no of unique customer.\n",
        "\n",
        "###`Q-6:` Sales man who has generated most revenue. Show top 5.\n",
        "\n",
        "###`Q-7:` List all customers who have made more than 10 purchases.\n",
        "\n",
        "### `Q-8` : List all salespeople who have made sales to more than 5 customers.\n",
        "\n",
        "### `Q-9:` List all pairs of customers who have made purchases with the same salesperson.\n"
      ]
    },
    {
      "cell_type": "code",
      "execution_count": null,
      "metadata": {
        "id": "VA90jn6Zpznc"
      },
      "outputs": [],
      "source": []
    }
  ],
  "metadata": {
    "colab": {
      "provenance": []
    },
    "kernelspec": {
      "display_name": "Python 3",
      "name": "python3"
    },
    "language_info": {
      "name": "python"
    }
  },
  "nbformat": 4,
  "nbformat_minor": 0
}
