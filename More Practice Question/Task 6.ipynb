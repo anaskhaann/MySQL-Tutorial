{
  "nbformat": 4,
  "nbformat_minor": 0,
  "metadata": {
    "colab": {
      "provenance": []
    },
    "kernelspec": {
      "name": "python3",
      "display_name": "Python 3"
    },
    "language_info": {
      "name": "python"
    }
  },
  "cells": [
    {
      "cell_type": "code",
      "execution_count": null,
      "metadata": {
        "id": "s-W3ohs8p3Oz"
      },
      "outputs": [],
      "source": []
    },
    {
      "cell_type": "markdown",
      "source": [
        "## Problem 1-4 : NorthWinddatset https://relational.fit.cvut.cz/dataset/Northwind\n",
        "\n",
        "How to download the dataset\n",
        "\n",
        "To download the dataset you need to create connection in your mysql workbench\n",
        "\n",
        "The datasets are publicly available directly from MariaDB database.\n",
        "\n",
        "* Open your favourite MariaDB client (MySQL Workbench)\n",
        "Use following credentials:\n",
        "```\n",
        "    hostname: relational.fit.cvut.cz\n",
        "    port: 3306\n",
        "    username: guest\n",
        "    password: relational\n",
        "```\n",
        "Drive link: https://drive.google.com/drive/folders/1FMi6g1KDHbn17ikJSi7bE9-THywlxhdu?usp=sharing"
      ],
      "metadata": {
        "id": "KpqcB6Vhp9qf"
      }
    },
    {
      "cell_type": "markdown",
      "source": [
        "###`Q-1`: Rank Employee in terms of revenue generation. Show employee id, first name, revenue, and rank\n",
        "\n",
        "\n",
        "###`Q-2`: Show All products cumulative sum of units sold each month.\n",
        "\n",
        "\n",
        "###`Q-3`: Show Percentage of total revenue by each suppliers\n",
        "\n",
        "\n",
        "\n",
        "###`Q-4:` Show Percentage of total orders by each suppliers\n",
        "\n",
        "\n",
        "\n",
        "### `Q-5`:Show All Products Year Wise report of totalQuantity sold, percentage change from last year.\n",
        "\n",
        "\n",
        "\n"
      ],
      "metadata": {
        "id": "FOEHlsgeqAGT"
      }
    },
    {
      "cell_type": "markdown",
      "source": [
        "## Problem 6 - 15\n",
        "\n",
        "For the next problems, you can get the dataset as well as the details [here](https://www.kaggle.com/datasets/thedevastator/drug-performance-evaluation?select=Drug_clean.csv) (Use the *cleaned* csv file)."
      ],
      "metadata": {
        "id": "nWELr3W3qN9Q"
      }
    },
    {
      "cell_type": "markdown",
      "source": [
        "### **`Problem-6:`** For each condition, what is the average satisfaction level of drugs that are \"On Label\" vs \"Off Label\"?\n",
        "\n",
        "\n",
        "### **`Problem-7:`** For each drug type (RX, OTC, RX/OTC), what is the average ease of use and satisfaction level of drugs with a price above the median for their type?\n",
        "\n",
        "\n",
        "### **`Problem 8:`** What is the cumulative distribution of EaseOfUse ratings for each drug type (RX, OTC, RX/OTC)? Show the results in descending order by drug type and cumulative distribution. (Use the built-in method and the manual method by calculating on your own. For the manual method, use the \"ROWS BETWEEN UNBOUNDED PRECEDING AND CURRENT ROW\" and see if you get the same results as the built-in method.)\n",
        "\n",
        "\n",
        "### **`Problem 9:`** What is the median satisfaction level for each medical condition? Show the results in descending order by median satisfaction level. (Don't repeat the same rows of your result.)\n",
        "\n",
        "\n",
        "\n",
        "### **`Problem 10:`** What is the running average of the price of drugs for each medical condition? Show the results in ascending order by medical condition and drug name.\n",
        "\n",
        "\n",
        "\n",
        "### **`Problem 11:`** What is the percentage change in the number of reviews for each drug between the previous row and the current row? Show the results in descending order by percentage change.\n",
        "\n",
        "\n",
        "\n",
        "### **`Problem 12:`** What is the percentage of total satisfaction level for each drug type (RX, OTC, RX/OTC)? Show the results in descending order by drug type and percentage of total satisfaction.\n",
        "\n",
        "\n",
        "\n",
        "### **`Problem 13:`** What is the cumulative sum of effective ratings for each medical condition and drug form combination? Show the results in ascending order by medical condition, drug form and the name of the drug.\n",
        "\n",
        "\n",
        "\n",
        "### **`Problem-14:`** What is the rank of the average ease of use for each drug type (RX, OTC, RX/OTC)? Show the results in descending order by rank and drug type.\n",
        "\n",
        "\n",
        "\n",
        "### **`Problem-15:`** For each condition, what is the average effectiveness of the top 3 most reviewed drugs?"
      ],
      "metadata": {
        "id": "wtiSQiILqQtd"
      }
    },
    {
      "cell_type": "code",
      "source": [],
      "metadata": {
        "id": "AZH1zzayp_Tv"
      },
      "execution_count": null,
      "outputs": []
    }
  ]
}